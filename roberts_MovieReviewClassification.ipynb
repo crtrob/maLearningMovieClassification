{
 "cells": [
  {
   "cell_type": "markdown",
   "metadata": {},
   "source": [
    "## Movie Review Sentiment Classification\n",
    "\n",
    "### Following instructions from Ch.8 of \"Python Machine Learning: Machine Learning and Deep Learning with Python, scikit-learn and TensorFlow2\" Third Edition by Sebastian Raschka & Vahid Mirjalili\n",
    "\n",
    "### Using dataset provided by Stanford, at : https://ai.stanford.edu/~amaas/data/sentiment/\n",
    "\n",
    "### Carter Roberts\n",
    "### For Loyola University New Orleans\n",
    "### March 17, 2025"
   ]
  },
  {
   "cell_type": "code",
   "execution_count": null,
   "metadata": {},
   "outputs": [
    {
     "ename": "KeyError",
     "evalue": "1",
     "output_type": "error",
     "traceback": [
      "\u001b[1;31m---------------------------------------------------------------------------\u001b[0m",
      "\u001b[1;31mKeyError\u001b[0m                                  Traceback (most recent call last)",
      "Cell \u001b[1;32mIn[12], line 27\u001b[0m\n\u001b[0;32m     25\u001b[0m txt \u001b[38;5;241m=\u001b[39m infile\u001b[38;5;241m.\u001b[39mread()\n\u001b[0;32m     26\u001b[0m \u001b[38;5;66;03m# put these into dataframe row instances\u001b[39;00m\n\u001b[1;32m---> 27\u001b[0m new_row \u001b[38;5;241m=\u001b[39m pd\u001b[38;5;241m.\u001b[39mDataFrame([[txt, \u001b[43mlabels\u001b[49m\u001b[43m[\u001b[49m\u001b[38;5;241;43m1\u001b[39;49m\u001b[43m]\u001b[49m]], columns\u001b[38;5;241m=\u001b[39mdf\u001b[38;5;241m.\u001b[39mcolumns)\n\u001b[0;32m     28\u001b[0m \u001b[38;5;66;03m# put these rows into the df dataframe\u001b[39;00m\n\u001b[0;32m     29\u001b[0m df \u001b[38;5;241m=\u001b[39m pd\u001b[38;5;241m.\u001b[39mconcat([df, new_row], ignore_index\u001b[38;5;241m=\u001b[39m\u001b[38;5;28;01mTrue\u001b[39;00m)\n",
      "\u001b[1;31mKeyError\u001b[0m: 1"
     ]
    }
   ],
   "source": [
    "# some of the notes are just for me and my forward-going comprehension, \n",
    "# but you should read them just in case\n",
    "import pyprind as pyp\n",
    "import pandas as pd\n",
    "import os\n",
    "\n",
    "# this will need to be adjusted to what your path for aclImdb dataset is\n",
    "basepath = 'C:\\\\Users\\\\Carter\\\\Documents\\\\Github\\\\maLearningMovieClassification\\\\aclImdb'\n",
    "\n",
    "# establishing diction for columns\n",
    "labels = {'pos': 1, 'neg': 0}\n",
    "# 50,000 step progress bar & empty dataframe\n",
    "pbar = pyp.ProgBar(50000)\n",
    "df = pd.DataFrame()\n",
    "# sift through all of those two folders with those two review results\n",
    "for s in ('test', 'train'):\n",
    "    for l in ('pos', 'neg'):\n",
    "        # fix up a variable 'path' for next loop\n",
    "        path = os.path.join(basepath, s, l)\n",
    "        # use 'path' to loop through all files in the current directory within 'test' or 'train'\n",
    "        for file in sorted(os.listdir(path)):\n",
    "            # 'infile' now defines the current total path which was assembled above\n",
    "            with open(os.path.join(path, file), 'r', encoding = 'utf-8') as infile:\n",
    "                # read, from the file, the written data, into these holders, 'txt'\n",
    "                txt = infile.read()\n",
    "                # put these into dataframe row instances\n",
    "                new_row = pd.DataFrame([[txt, labels[1]]], columns = df.columns)\n",
    "                # put these rows into the df dataframe\n",
    "                df = pd.concat([df, new_row], ignore_index=True)\n",
    "                # iterate a step of the progress bar\n",
    "                pbar.update()\n",
    "# define the columns of this newly-filled dataframe\n",
    "df.columns = ['review', 'sentiment']"
   ]
  }
 ],
 "metadata": {
  "kernelspec": {
   "display_name": "Python 3",
   "language": "python",
   "name": "python3"
  },
  "language_info": {
   "codemirror_mode": {
    "name": "ipython",
    "version": 3
   },
   "file_extension": ".py",
   "mimetype": "text/x-python",
   "name": "python",
   "nbconvert_exporter": "python",
   "pygments_lexer": "ipython3",
   "version": "3.13.1"
  }
 },
 "nbformat": 4,
 "nbformat_minor": 2
}
