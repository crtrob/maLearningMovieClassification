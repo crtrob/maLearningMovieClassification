{
 "cells": [
  {
   "cell_type": "markdown",
   "metadata": {},
   "source": [
    "## Movie Review Sentiment Classification: Part 2\n",
    "\n",
    "### Following instructions from Ch.9 of \"Python Machine Learning: Machine Learning and Deep Learning with Python, scikit-learn and TensorFlow2\" Third Edition by Sebastian Raschka & Vahid Mirjalili\n",
    "\n",
    "### Using dataset provided by Stanford, at : https://ai.stanford.edu/~amaas/data/sentiment/ (not provided in repo for size purposes, just put  'acllmdb' extract-folder in same folder of clone)\n",
    "\n",
    "### Carter Roberts\n",
    "### For Loyola University New Orleans\n",
    "### March 22, 2025"
   ]
  },
  {
   "cell_type": "code",
   "execution_count": 1,
   "metadata": {},
   "outputs": [],
   "source": [
    "# let's make a SQLite database in the directory\n",
    "import sqlite3\n",
    "import os\n",
    "\n",
    "# establish connection for 'reviews.sqlite' and creates in same directory as python file\n",
    "conn = sqlite3.connect('reviews.sqlite')\n",
    "# has c act as variable for 'cursor' in conn, allowing it to execute commands among other things\n",
    "c = conn.cursor()\n",
    "# destroy 'review_db' if it exists\n",
    "c.execute('DROP TABLE IF EXISTS review_db')\n",
    "# then create it with the three columns, review as a text, sentiment as an integer, and date as a text\n",
    "c.execute('CREATE TABLE review_db (review TEXT, sentiment INTEGER, date TEXT)')\n",
    "\n",
    "# insert positive example into review_db\n",
    "example1 = 'I love this movie'\n",
    "c.execute(\"INSERT INTO review_db (review, sentiment, date) VALUES (?, ?, DATETIME('now'))\", (example1, 1))\n",
    "\n",
    "# insert negative example into review_db\n",
    "example2 = 'I disliked this movie'\n",
    "c.execute(\"INSERT INTO review_db (review, sentiment, date) VALUES (?, ?, DATETIME('now'))\", (example2, 0))\n",
    "\n",
    "# commit changes to connection and close it\n",
    "conn.commit()\n",
    "conn.close()"
   ]
  },
  {
   "cell_type": "code",
   "execution_count": 2,
   "metadata": {},
   "outputs": [
    {
     "name": "stdout",
     "output_type": "stream",
     "text": [
      "[('I love this movie', 1, '2025-03-22 12:44:01'), ('I disliked this movie', 0, '2025-03-22 12:44:01')]\n"
     ]
    }
   ],
   "source": [
    "# reconnect and test to see that it entered connection correctly\n",
    "import sqlite3\n",
    "import os\n",
    "\n",
    "conn = sqlite3.connect('reviews.sqlite')\n",
    "c = conn.cursor()\n",
    "c.execute(\"SELECT * FROM review_db WHERE date BETWEEN '2017-01-01 00:00:00' AND DATETIME('now')\")\n",
    "results = c.fetchall()\n",
    "conn.close()\n",
    "\n",
    "print(results)"
   ]
  },
  {
   "cell_type": "code",
   "execution_count": null,
   "metadata": {},
   "outputs": [
    {
     "name": "stdout",
     "output_type": "stream",
     "text": [
      " * Serving Flask app '__main__'\n",
      " * Debug mode: off\n"
     ]
    },
    {
     "name": "stderr",
     "output_type": "stream",
     "text": [
      "WARNING: This is a development server. Do not use it in a production deployment. Use a production WSGI server instead.\n",
      " * Running on http://127.0.0.1:5000\n",
      "Press CTRL+C to quit\n",
      "127.0.0.1 - - [22/Mar/2025 08:03:07] \"GET / HTTP/1.1\" 200 -\n",
      "127.0.0.1 - - [22/Mar/2025 08:03:07] \"GET /favicon.ico HTTP/1.1\" 404 -\n"
     ]
    }
   ],
   "source": [
    "# try making the most basic of flask applications, must concurrently create template html for this\n",
    "from flask import Flask, render_template\n",
    "\n",
    "# __name__ lets Flask know the HTML template folder is in the same directory as this program\n",
    "app = Flask(__name__)\n",
    "# specifies URL which triggers index method\n",
    "@app.route('/')\n",
    "def index():\n",
    "    # this thing has to already exist but this method will be called by the condition in app.route's parameter\n",
    "    return render_template('first_app.html')\n",
    "\n",
    "# run the previously-instantiated \"app\" only if __name__ is __main__, meaning the file isn't imported but directly ran\n",
    "if __name__ == '__main__':\n",
    "    app.run()"
   ]
  },
  {
   "cell_type": "code",
   "execution_count": 5,
   "metadata": {},
   "outputs": [
    {
     "name": "stdout",
     "output_type": "stream",
     "text": [
      " * Serving Flask app '__main__'\n",
      " * Debug mode: on\n"
     ]
    },
    {
     "name": "stderr",
     "output_type": "stream",
     "text": [
      "WARNING: This is a development server. Do not use it in a production deployment. Use a production WSGI server instead.\n",
      " * Running on http://127.0.0.1:5000\n",
      "Press CTRL+C to quit\n",
      "127.0.0.1 - - [22/Mar/2025 08:42:44] \"GET / HTTP/1.1\" 200 -\n",
      "127.0.0.1 - - [22/Mar/2025 08:42:44] \"GET /static/style_secondapp.css HTTP/1.1\" 200 -\n",
      "127.0.0.1 - - [22/Mar/2025 08:42:47] \"POST /hello HTTP/1.1\" 200 -\n",
      "127.0.0.1 - - [22/Mar/2025 08:42:47] \"GET /static/style_secondapp.css HTTP/1.1\" 304 -\n"
     ]
    }
   ],
   "source": [
    "# try making a flask application which asks for name and says hello\n",
    "from flask import Flask, render_template, request\n",
    "from wtforms import Form, TextAreaField, validators\n",
    "\n",
    "app = Flask(__name__)\n",
    "\n",
    "# prompts the empty text box and requires that data is entered\n",
    "class HelloForm(Form):\n",
    "    sayhello = TextAreaField('', [validators.DataRequired()])\n",
    "\n",
    "# specifies URL which triggers index method,\n",
    "@app.route('/')\n",
    "# which calls out the text field HelloForm and gives back the second site html\n",
    "def index():\n",
    "    form = HelloForm(request.form)\n",
    "    return render_template('second_app.html', form = form)\n",
    "\n",
    "# specifies URL which triggers hello method,\n",
    "@app.route('/hello', methods = ['POST'])\n",
    "# which renders hello.html after validating the text form\n",
    "def hello():\n",
    "    # identical instantiation to that in index()\n",
    "    form = HelloForm(request.form)\n",
    "    # if the text form is validated\n",
    "    if request.method == 'POST' and form.validate():\n",
    "        # saves name value from form\n",
    "        name = request.form['sayhello']\n",
    "        # returns hello.html template with saved name as extra parameter\n",
    "        return render_template('hello.html', name = name)\n",
    "    # otherwise case, where it just retrieves the same old second_app.html template & text form\n",
    "    return render_template('second_app.html', form = form)\n",
    "\n",
    "# only run if file is directly run & not imported as script\n",
    "if __name__ == '__main__':\n",
    "    app.run(debug = True, use_reloader = False)"
   ]
  },
  {
   "cell_type": "markdown",
   "metadata": {},
   "source": [
    "### So the instructions for the actual public web host are hopelessly out-of-date... That means I'm stuck at the point I am, right where I've made the site and the HTML and everything *work*, but I  can't publically host them anywhere. If you want to grade me, you can dock for this, but also know I'm able to record my screen and show you the fully-functional site whenever you need."
   ]
  }
 ],
 "metadata": {
  "kernelspec": {
   "display_name": "Python 3",
   "language": "python",
   "name": "python3"
  },
  "language_info": {
   "codemirror_mode": {
    "name": "ipython",
    "version": 3
   },
   "file_extension": ".py",
   "mimetype": "text/x-python",
   "name": "python",
   "nbconvert_exporter": "python",
   "pygments_lexer": "ipython3",
   "version": "3.13.1"
  }
 },
 "nbformat": 4,
 "nbformat_minor": 2
}
